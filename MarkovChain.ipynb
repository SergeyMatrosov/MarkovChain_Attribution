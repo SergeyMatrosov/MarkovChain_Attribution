{
 "cells": [
  {
   "cell_type": "code",
   "execution_count": 18,
   "metadata": {
    "collapsed": true
   },
   "outputs": [],
   "source": [
    "import pandas as pd"
   ]
  },
  {
   "cell_type": "code",
   "execution_count": 19,
   "metadata": {
    "collapsed": true
   },
   "outputs": [],
   "source": [
    "user_streaming = pd.read_excel(\"YOUR_PATH_TO\\\\WebsiteUserStreaming.xlsx\", header=0)"
   ]
  },
  {
   "cell_type": "code",
   "execution_count": 20,
   "metadata": {},
   "outputs": [
    {
     "data": {
      "text/html": [
       "<div>\n",
       "<style>\n",
       "    .dataframe thead tr:only-child th {\n",
       "        text-align: right;\n",
       "    }\n",
       "\n",
       "    .dataframe thead th {\n",
       "        text-align: left;\n",
       "    }\n",
       "\n",
       "    .dataframe tbody tr th {\n",
       "        vertical-align: top;\n",
       "    }\n",
       "</style>\n",
       "<table border=\"1\" class=\"dataframe\">\n",
       "  <thead>\n",
       "    <tr style=\"text-align: right;\">\n",
       "      <th></th>\n",
       "      <th>userid</th>\n",
       "      <th>time</th>\n",
       "      <th>source</th>\n",
       "      <th>event</th>\n",
       "    </tr>\n",
       "  </thead>\n",
       "  <tbody>\n",
       "    <tr>\n",
       "      <th>0</th>\n",
       "      <td>1111</td>\n",
       "      <td>2020-01-01</td>\n",
       "      <td>blog</td>\n",
       "      <td>null</td>\n",
       "    </tr>\n",
       "    <tr>\n",
       "      <th>1</th>\n",
       "      <td>1111</td>\n",
       "      <td>2020-01-02</td>\n",
       "      <td>organic</td>\n",
       "      <td>null</td>\n",
       "    </tr>\n",
       "    <tr>\n",
       "      <th>2</th>\n",
       "      <td>2222</td>\n",
       "      <td>2020-01-01</td>\n",
       "      <td>ppc</td>\n",
       "      <td>null</td>\n",
       "    </tr>\n",
       "    <tr>\n",
       "      <th>3</th>\n",
       "      <td>2222</td>\n",
       "      <td>2020-01-02</td>\n",
       "      <td>blog</td>\n",
       "      <td>null</td>\n",
       "    </tr>\n",
       "    <tr>\n",
       "      <th>4</th>\n",
       "      <td>2222</td>\n",
       "      <td>2020-01-03</td>\n",
       "      <td>organic</td>\n",
       "      <td>CONVERSION</td>\n",
       "    </tr>\n",
       "    <tr>\n",
       "      <th>5</th>\n",
       "      <td>6666</td>\n",
       "      <td>2020-01-01</td>\n",
       "      <td>ppc</td>\n",
       "      <td>null</td>\n",
       "    </tr>\n",
       "  </tbody>\n",
       "</table>\n",
       "</div>"
      ],
      "text/plain": [
       "   userid       time   source       event\n",
       "0    1111 2020-01-01     blog        null\n",
       "1    1111 2020-01-02  organic        null\n",
       "2    2222 2020-01-01      ppc        null\n",
       "3    2222 2020-01-02     blog        null\n",
       "4    2222 2020-01-03  organic  CONVERSION\n",
       "5    6666 2020-01-01      ppc        null"
      ]
     },
     "execution_count": 20,
     "metadata": {},
     "output_type": "execute_result"
    }
   ],
   "source": [
    "user_streaming"
   ]
  },
  {
   "cell_type": "code",
   "execution_count": 58,
   "metadata": {},
   "outputs": [
    {
     "data": {
      "text/plain": [
       "1"
      ]
     },
     "execution_count": 58,
     "metadata": {},
     "output_type": "execute_result"
    }
   ],
   "source": [
    "conversions = user_streaming['event'][user_streaming['event'] == 'CONVERSION'].count()\n",
    "if(conversions == 0):\n",
    "    print('Nothing to count, wait for at least 1 conversion')\n"
   ]
  },
  {
   "cell_type": "code",
   "execution_count": 21,
   "metadata": {
    "collapsed": true
   },
   "outputs": [],
   "source": [
    "chains = []\n",
    "for i, userid in enumerate(user_streaming['userid']):\n",
    "    if (i == 0):\n",
    "        user_path = user_streaming[user_streaming['userid'] == userid]\n",
    "        chain = 'START'\n",
    "        for path in user_path['source']:\n",
    "            chain += '-' + path\n",
    "        chain += '-' + user_path['event'].iloc[-1]\n",
    "        chains.append(chain)\n",
    "        prev_user = userid\n",
    "    else:\n",
    "        if(userid == prev_user):\n",
    "            continue;\n",
    "        else:\n",
    "            user_path = user_streaming[user_streaming['userid'] == userid]\n",
    "            chain = 'START'\n",
    "            for path in user_path['source']:\n",
    "                chain += '-' + path\n",
    "            chain += '-' + user_path['event'].iloc[-1]\n",
    "            chains.append(chain)\n",
    "            prev_user = userid"
   ]
  },
  {
   "cell_type": "code",
   "execution_count": 22,
   "metadata": {
    "collapsed": true
   },
   "outputs": [],
   "source": [
    "chains_transitions = []\n",
    "for chain in chains:\n",
    "    transitions = chain.split('-')\n",
    "    for cur, nxt in zip (transitions, transitions[1:] ):\n",
    "        chains_transitions.append(cur+'-'+nxt)     "
   ]
  },
  {
   "cell_type": "code",
   "execution_count": 23,
   "metadata": {},
   "outputs": [
    {
     "data": {
      "text/plain": [
       "['START-blog',\n",
       " 'START-ppc',\n",
       " 'START-ppc',\n",
       " 'blog-organic',\n",
       " 'blog-organic',\n",
       " 'organic-CONVERSION',\n",
       " 'organic-null',\n",
       " 'ppc-blog',\n",
       " 'ppc-null']"
      ]
     },
     "execution_count": 23,
     "metadata": {},
     "output_type": "execute_result"
    }
   ],
   "source": [
    "chains_transitions.sort()\n",
    "chains_transitions"
   ]
  },
  {
   "cell_type": "code",
   "execution_count": 24,
   "metadata": {
    "collapsed": true
   },
   "outputs": [],
   "source": [
    "channels_from = []\n",
    "channels_to = []\n",
    "num_transitions = []\n",
    "total_from = []\n",
    "for i, chain in enumerate(chains_transitions):\n",
    "    num = chains_transitions.count(chain)\n",
    "    num_transitions.append(num)\n",
    "    channel_from = chain[:chain.index('-')]\n",
    "    channels_from.append(channel_from)\n",
    "    channel_to = chain[chain.index('-')+1:]\n",
    "    channels_to.append(channel_to)\n",
    "    \n",
    "for channel in channels_from:\n",
    "    total_from.append(channels_from.count(channel))\n",
    "    \n",
    "transition_matrix = pd.DataFrame(list(zip(channels_from, channels_to, num_transitions, total_from)), \n",
    "                                 columns =['channels_from', 'channels_to', 'num_transitions', 'total_from']) \n",
    "transition_matrix.drop_duplicates(subset=None, keep='first', inplace=True)\n",
    "transition_matrix['probability'] = round(transition_matrix['num_transitions']/transition_matrix['total_from'], 2)\n",
    "transition_matrix['from-to'] = transition_matrix['channels_from'] + '-' + transition_matrix['channels_to']"
   ]
  },
  {
   "cell_type": "code",
   "execution_count": 25,
   "metadata": {},
   "outputs": [
    {
     "data": {
      "text/html": [
       "<div>\n",
       "<style>\n",
       "    .dataframe thead tr:only-child th {\n",
       "        text-align: right;\n",
       "    }\n",
       "\n",
       "    .dataframe thead th {\n",
       "        text-align: left;\n",
       "    }\n",
       "\n",
       "    .dataframe tbody tr th {\n",
       "        vertical-align: top;\n",
       "    }\n",
       "</style>\n",
       "<table border=\"1\" class=\"dataframe\">\n",
       "  <thead>\n",
       "    <tr style=\"text-align: right;\">\n",
       "      <th></th>\n",
       "      <th>channels_from</th>\n",
       "      <th>channels_to</th>\n",
       "      <th>num_transitions</th>\n",
       "      <th>total_from</th>\n",
       "      <th>probability</th>\n",
       "      <th>from-to</th>\n",
       "    </tr>\n",
       "  </thead>\n",
       "  <tbody>\n",
       "    <tr>\n",
       "      <th>0</th>\n",
       "      <td>START</td>\n",
       "      <td>blog</td>\n",
       "      <td>1</td>\n",
       "      <td>3</td>\n",
       "      <td>0.33</td>\n",
       "      <td>START-blog</td>\n",
       "    </tr>\n",
       "    <tr>\n",
       "      <th>1</th>\n",
       "      <td>START</td>\n",
       "      <td>ppc</td>\n",
       "      <td>2</td>\n",
       "      <td>3</td>\n",
       "      <td>0.67</td>\n",
       "      <td>START-ppc</td>\n",
       "    </tr>\n",
       "    <tr>\n",
       "      <th>3</th>\n",
       "      <td>blog</td>\n",
       "      <td>organic</td>\n",
       "      <td>2</td>\n",
       "      <td>2</td>\n",
       "      <td>1.00</td>\n",
       "      <td>blog-organic</td>\n",
       "    </tr>\n",
       "    <tr>\n",
       "      <th>5</th>\n",
       "      <td>organic</td>\n",
       "      <td>CONVERSION</td>\n",
       "      <td>1</td>\n",
       "      <td>2</td>\n",
       "      <td>0.50</td>\n",
       "      <td>organic-CONVERSION</td>\n",
       "    </tr>\n",
       "    <tr>\n",
       "      <th>6</th>\n",
       "      <td>organic</td>\n",
       "      <td>null</td>\n",
       "      <td>1</td>\n",
       "      <td>2</td>\n",
       "      <td>0.50</td>\n",
       "      <td>organic-null</td>\n",
       "    </tr>\n",
       "    <tr>\n",
       "      <th>7</th>\n",
       "      <td>ppc</td>\n",
       "      <td>blog</td>\n",
       "      <td>1</td>\n",
       "      <td>2</td>\n",
       "      <td>0.50</td>\n",
       "      <td>ppc-blog</td>\n",
       "    </tr>\n",
       "    <tr>\n",
       "      <th>8</th>\n",
       "      <td>ppc</td>\n",
       "      <td>null</td>\n",
       "      <td>1</td>\n",
       "      <td>2</td>\n",
       "      <td>0.50</td>\n",
       "      <td>ppc-null</td>\n",
       "    </tr>\n",
       "  </tbody>\n",
       "</table>\n",
       "</div>"
      ],
      "text/plain": [
       "  channels_from channels_to  num_transitions  total_from  probability  \\\n",
       "0         START        blog                1           3         0.33   \n",
       "1         START         ppc                2           3         0.67   \n",
       "3          blog     organic                2           2         1.00   \n",
       "5       organic  CONVERSION                1           2         0.50   \n",
       "6       organic        null                1           2         0.50   \n",
       "7           ppc        blog                1           2         0.50   \n",
       "8           ppc        null                1           2         0.50   \n",
       "\n",
       "              from-to  \n",
       "0          START-blog  \n",
       "1           START-ppc  \n",
       "3        blog-organic  \n",
       "5  organic-CONVERSION  \n",
       "6        organic-null  \n",
       "7            ppc-blog  \n",
       "8            ppc-null  "
      ]
     },
     "execution_count": 25,
     "metadata": {},
     "output_type": "execute_result"
    }
   ],
   "source": [
    "transition_matrix"
   ]
  },
  {
   "cell_type": "code",
   "execution_count": 26,
   "metadata": {
    "collapsed": true
   },
   "outputs": [],
   "source": [
    "def rec_seq(keyword, string, channel_list, end='-CONVERSION'):\n",
    "    successful_channels = transition_matrix['channels_from'].loc[transition_matrix['channels_to'].isin([keyword])]\n",
    "    for channel in successful_channels:\n",
    "        if(channel == 'START'):\n",
    "            for i in reversed(channel_list):\n",
    "                string += '-' + i\n",
    "            new_string = string + end\n",
    "            successful_chains.append(new_string)\n",
    "            string = 'START'\n",
    "        else:\n",
    "            channel_list.append(channel)\n",
    "            rec_seq(channel, string, channel_list)"
   ]
  },
  {
   "cell_type": "code",
   "execution_count": 27,
   "metadata": {
    "collapsed": true
   },
   "outputs": [],
   "source": [
    "start = 'START'\n",
    "channel_list = []\n",
    "successful_chains = []\n",
    "success = 'CONVERSION'\n",
    "rec_seq(success, start, channel_list)"
   ]
  },
  {
   "cell_type": "code",
   "execution_count": 28,
   "metadata": {},
   "outputs": [
    {
     "data": {
      "text/plain": [
       "['START-blog-organic-CONVERSION', 'START-ppc-blog-organic-CONVERSION']"
      ]
     },
     "execution_count": 28,
     "metadata": {},
     "output_type": "execute_result"
    }
   ],
   "source": [
    "successful_chains"
   ]
  },
  {
   "cell_type": "code",
   "execution_count": 29,
   "metadata": {},
   "outputs": [
    {
     "name": "stdout",
     "output_type": "stream",
     "text": [
      "[0.33, 1.0, 0.5]\n",
      "[0.67, 1.0, 0.5, 0.5]\n",
      "[0.165, 0.1675]\n"
     ]
    }
   ],
   "source": [
    "model_probability = []\n",
    "for sequence in successful_chains:\n",
    "    seq_probability = []\n",
    "    for chain in transition_matrix['from-to']:\n",
    "        if(sequence.__contains__(chain)):\n",
    "            value = transition_matrix['probability'].loc[transition_matrix['from-to'].isin([chain])]\n",
    "            value = value.values.tolist()\n",
    "            value = value[0]\n",
    "            seq_probability.append(value)\n",
    "        else:\n",
    "            continue\n",
    "    print(seq_probability)\n",
    "    result = 1\n",
    "    for prob in seq_probability: \n",
    "         result = result * prob\n",
    "    model_probability.append(result)\n",
    "print(model_probability)\n",
    "result = 0\n",
    "for prob in model_probability:\n",
    "    result = result + prob\n",
    "model_probability = result    "
   ]
  },
  {
   "cell_type": "code",
   "execution_count": 30,
   "metadata": {},
   "outputs": [
    {
     "data": {
      "text/plain": [
       "0.3325"
      ]
     },
     "execution_count": 30,
     "metadata": {},
     "output_type": "execute_result"
    }
   ],
   "source": [
    "model_probability"
   ]
  },
  {
   "cell_type": "code",
   "execution_count": 63,
   "metadata": {},
   "outputs": [
    {
     "data": {
      "text/plain": [
       "{'blog': 1, 'organic': 1, 'ppc': 0.5}"
      ]
     },
     "execution_count": 63,
     "metadata": {},
     "output_type": "execute_result"
    }
   ],
   "source": [
    "re_model_probability = []\n",
    "re_sources = {}\n",
    "sources = list(user_streaming['source'].drop_duplicates(inplace=False))\n",
    "for source in sources:\n",
    "    re_sources[source] = 0\n",
    "    involve = 0\n",
    "    for sequence in successful_chains:\n",
    "        if (sequence.__contains__(source)):\n",
    "            involve += 1\n",
    "            if(involve == len(successful_chains)):\n",
    "                re_sources[source] = 1\n",
    "            continue\n",
    "        else:\n",
    "            seq_probability = []\n",
    "            for chain in transition_matrix['from-to']:\n",
    "                if(sequence.__contains__(chain)):\n",
    "                    value = transition_matrix['probability'].loc[transition_matrix['from-to'].isin([chain])]\n",
    "                    value = value.values.tolist()\n",
    "                    value = value[0]\n",
    "                    seq_probability.append(value)\n",
    "                else:\n",
    "                    continue\n",
    "            result = 1\n",
    "            for prob in seq_probability: \n",
    "                 result = result * prob\n",
    "            re_model_probability.append(result)\n",
    "    if (re_sources[source] == 1):\n",
    "        continue\n",
    "    else:\n",
    "        result = 0\n",
    "        for prob in re_model_probability:\n",
    "            result = result + prob\n",
    "        re_model_probability = result\n",
    "        re_sources[source] = round(re_model_probability/model_probability, 2)\n",
    "re_sources"
   ]
  },
  {
   "cell_type": "code",
   "execution_count": 80,
   "metadata": {},
   "outputs": [
    {
     "data": {
      "text/plain": [
       "{'blog': 0.4, 'organic': 0.4, 'ppc': 0.2}"
      ]
     },
     "execution_count": 80,
     "metadata": {},
     "output_type": "execute_result"
    }
   ],
   "source": [
    "num_cnv = {}\n",
    "for source, coef_norm in re_sources.items():\n",
    "    coef_sum = 0\n",
    "    for values in re_sources.values():\n",
    "        coef_sum += values\n",
    "    num_cnv[source] = round(float(coef_norm/coef_sum*conversions), 2)\n",
    "num_cnv"
   ]
  },
  {
   "cell_type": "code",
   "execution_count": 88,
   "metadata": {},
   "outputs": [
    {
     "data": {
      "text/html": [
       "<div>\n",
       "<style>\n",
       "    .dataframe thead tr:only-child th {\n",
       "        text-align: right;\n",
       "    }\n",
       "\n",
       "    .dataframe thead th {\n",
       "        text-align: left;\n",
       "    }\n",
       "\n",
       "    .dataframe tbody tr th {\n",
       "        vertical-align: top;\n",
       "    }\n",
       "</style>\n",
       "<table border=\"1\" class=\"dataframe\">\n",
       "  <thead>\n",
       "    <tr style=\"text-align: right;\">\n",
       "      <th></th>\n",
       "      <th>blog</th>\n",
       "      <th>organic</th>\n",
       "      <th>ppc</th>\n",
       "    </tr>\n",
       "  </thead>\n",
       "  <tbody>\n",
       "    <tr>\n",
       "      <th>0</th>\n",
       "      <td>0.4</td>\n",
       "      <td>0.4</td>\n",
       "      <td>0.2</td>\n",
       "    </tr>\n",
       "  </tbody>\n",
       "</table>\n",
       "</div>"
      ],
      "text/plain": [
       "   blog  organic  ppc\n",
       "0   0.4      0.4  0.2"
      ]
     },
     "execution_count": 88,
     "metadata": {},
     "output_type": "execute_result"
    }
   ],
   "source": [
    "table_for_report = pd.DataFrame(num_cnv, index=[0])\n",
    "table_for_report"
   ]
  }
 ],
 "metadata": {
  "kernelspec": {
   "display_name": "Python 3",
   "language": "python",
   "name": "python3"
  },
  "language_info": {
   "codemirror_mode": {
    "name": "ipython",
    "version": 3
   },
   "file_extension": ".py",
   "mimetype": "text/x-python",
   "name": "python",
   "nbconvert_exporter": "python",
   "pygments_lexer": "ipython3",
   "version": "3.6.3"
  }
 },
 "nbformat": 4,
 "nbformat_minor": 2
}
